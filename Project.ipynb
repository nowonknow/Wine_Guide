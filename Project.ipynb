{
 "cells": [
  {
   "cell_type": "code",
   "execution_count": 2,
   "metadata": {},
   "outputs": [],
   "source": [
    "from sklearn.datasets import make_gaussian_quantiles\n",
    "from sklearn.gaussian_process.kernels import RBF\n",
    "from sklearn import svm\n",
    "import numpy as np\n",
    "import matplotlib.pyplot as plt\n",
    "import seaborn as sns; \n",
    "import pandas as pd"
   ]
  },
  {
   "cell_type": "code",
   "execution_count": 3,
   "metadata": {},
   "outputs": [
    {
     "name": "stdout",
     "output_type": "stream",
     "text": [
      "        Unnamed: 0 country                                        description  \\\n",
      "0                0      US  This tremendous 100% varietal wine hails from ...   \n",
      "1                1   Spain  Ripe aromas of fig, blackberry and cassis are ...   \n",
      "2                2      US  Mac Watson honors the memory of a wine once ma...   \n",
      "3                3      US  This spent 20 months in 30% new French oak, an...   \n",
      "4                4  France  This is the top wine from La Bégude, named aft...   \n",
      "...            ...     ...                                                ...   \n",
      "150925      150925   Italy  Many people feel Fiano represents southern Ita...   \n",
      "150926      150926  France  Offers an intriguing nose with ginger, lime an...   \n",
      "150927      150927   Italy  This classic example comes from a cru vineyard...   \n",
      "150928      150928  France  A perfect salmon shade, with scents of peaches...   \n",
      "150929      150929   Italy  More Pinot Grigios should taste like this. A r...   \n",
      "\n",
      "                                 designation  points  price  \\\n",
      "0                          Martha's Vineyard      96  235.0   \n",
      "1       Carodorum Selección Especial Reserva      96  110.0   \n",
      "2              Special Selected Late Harvest      96   90.0   \n",
      "3                                    Reserve      96   65.0   \n",
      "4                                 La Brûlade      95   66.0   \n",
      "...                                      ...     ...    ...   \n",
      "150925                                   NaN      91   20.0   \n",
      "150926                        Cuvée Prestige      91   27.0   \n",
      "150927                         Terre di Dora      91   20.0   \n",
      "150928                       Grand Brut Rosé      90   52.0   \n",
      "150929                                   NaN      90   15.0   \n",
      "\n",
      "                  province           region_1           region_2  \\\n",
      "0               California        Napa Valley               Napa   \n",
      "1           Northern Spain               Toro                NaN   \n",
      "2               California     Knights Valley             Sonoma   \n",
      "3                   Oregon  Willamette Valley  Willamette Valley   \n",
      "4                 Provence             Bandol                NaN   \n",
      "...                    ...                ...                ...   \n",
      "150925      Southern Italy  Fiano di Avellino                NaN   \n",
      "150926           Champagne          Champagne                NaN   \n",
      "150927      Southern Italy  Fiano di Avellino                NaN   \n",
      "150928           Champagne          Champagne                NaN   \n",
      "150929  Northeastern Italy         Alto Adige                NaN   \n",
      "\n",
      "                   variety                   winery  \n",
      "0       Cabernet Sauvignon                    Heitz  \n",
      "1            Tinta de Toro  Bodega Carmen Rodríguez  \n",
      "2          Sauvignon Blanc                 Macauley  \n",
      "3               Pinot Noir                    Ponzi  \n",
      "4       Provence red blend     Domaine de la Bégude  \n",
      "...                    ...                      ...  \n",
      "150925         White Blend    Feudi di San Gregorio  \n",
      "150926     Champagne Blend                H.Germain  \n",
      "150927         White Blend                Terredora  \n",
      "150928     Champagne Blend                   Gosset  \n",
      "150929        Pinot Grigio            Alois Lageder  \n",
      "\n",
      "[150930 rows x 11 columns]\n"
     ]
    }
   ],
   "source": [
    "df = pd.read_csv (r'.\\winemag-data_first150k.csv')\n",
    "print (df)"
   ]
  },
  {
   "cell_type": "code",
   "execution_count": null,
   "metadata": {},
   "outputs": [],
   "source": []
  }
 ],
 "metadata": {
  "kernelspec": {
   "display_name": "Python 3",
   "language": "python",
   "name": "python3"
  },
  "language_info": {
   "codemirror_mode": {
    "name": "ipython",
    "version": 3
   },
   "file_extension": ".py",
   "mimetype": "text/x-python",
   "name": "python",
   "nbconvert_exporter": "python",
   "pygments_lexer": "ipython3",
   "version": "3.8.5"
  }
 },
 "nbformat": 4,
 "nbformat_minor": 4
}
