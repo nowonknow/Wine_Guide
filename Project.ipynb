{
 "cells": [
  {
   "cell_type": "code",
   "execution_count": null,
   "metadata": {},
   "outputs": [],
   "source": [
    "from sklearn.datasets import make_gaussian_quantiles\n",
    "from sklearn.gaussian_process.kernels import RBF\n",
    "from sklearn import svm\n",
    "from sklearn.model_selection import train_test_split\n",
    "import numpy as np\n",
    "import matplotlib.pyplot as plt\n",
    "import seaborn as sns; \n",
    "import pandas as pd"
   ]
  },
  {
   "cell_type": "code",
   "execution_count": null,
   "metadata": {},
   "outputs": [],
   "source": [
    "df = pd.read_csv (r'winemag-data-130k-v2.csv')\n",
    "print(df.columns)"
   ]
  },
  {
   "cell_type": "code",
   "execution_count": null,
   "metadata": {},
   "outputs": [],
   "source": []
  },
  {
   "cell_type": "code",
   "execution_count": null,
   "metadata": {},
   "outputs": [],
   "source": [
    "import re\n",
    "mylist = df['title'] # init the list\n",
    "df[\"year\"] = np.ones(df['title'].shape)\n",
    "for i, l in enumerate(mylist):\n",
    "    match = re.match(r'.*([1-2][0-9]{3})', l)\n",
    "    if match is not None:\n",
    "        # Then it found a match!\n",
    "        df.at[i,'year'] = int(match.group(1))"
   ]
  },
  {
   "cell_type": "code",
   "execution_count": null,
   "metadata": {},
   "outputs": [],
   "source": [
    "y = df['points']\n",
    "x = df.drop('points',axis=1)\n",
    "\n",
    "x_train,x_test,y_train,y_test=train_test_split(x,y,test_size=0.2)"
   ]
  },
  {
   "cell_type": "code",
   "execution_count": null,
   "metadata": {},
   "outputs": [],
   "source": [
    "print(x_train.shape, y_train.shape)"
   ]
  },
  {
   "cell_type": "code",
   "execution_count": null,
   "metadata": {},
   "outputs": [],
   "source": [
    "print(x_test.shape,y_test.shape)"
   ]
  },
  {
   "cell_type": "code",
   "execution_count": null,
   "metadata": {},
   "outputs": [],
   "source": [
    "sns.relplot(\n",
    "    data=df,\n",
    "    x=\"year\", y=\"points\",\n",
    ")"
   ]
  },
  {
   "cell_type": "code",
   "execution_count": null,
   "metadata": {},
   "outputs": [],
   "source": [
    "df['year']"
   ]
  },
  {
   "cell_type": "code",
   "execution_count": null,
   "metadata": {},
   "outputs": [],
   "source": [
    "df['year'].loc[lambda s: s < 1800 ]"
   ]
  },
  {
   "cell_type": "code",
   "execution_count": null,
   "metadata": {},
   "outputs": [],
   "source": [
    "new_df = df.drop(np.append(df['year'].loc[lambda s: s < 1980 ].index.values,df['year'].loc[lambda s: s > 2022 ].index.values))"
   ]
  },
  {
   "cell_type": "code",
   "execution_count": null,
   "metadata": {},
   "outputs": [],
   "source": [
    "sns.relplot(\n",
    "    data=new_df,\n",
    "    x=\"price\", y=\"year\",\n",
    ")\n",
    "sns.relplot(\n",
    "    data=new_df,\n",
    "    x=\"points\", y=\"year\",\n",
    ")"
   ]
  },
  {
   "cell_type": "code",
   "execution_count": null,
   "metadata": {},
   "outputs": [],
   "source": [
    "\n",
    "p_df = df.copy()\n",
    "province_count = df['country'].value_counts()\n",
    "for index, value in province_count.items():\n",
    "    if value/df['country'].shape[0] < 0.01:\n",
    "        p_df = p_df.replace(index,\"Other\")\n",
    "sns.relplot(\n",
    "    data=p_df,\n",
    "    hue=\"country\",x=\"price\", y=\"country\",\n",
    ")\n",
    "sns.relplot(\n",
    "    data=p_df,\n",
    "    hue=\"country\",x=\"points\", y=\"country\",\n",
    ")"
   ]
  },
  {
   "cell_type": "code",
   "execution_count": null,
   "metadata": {},
   "outputs": [],
   "source": [
    "sns.relplot(\n",
    "    data=new_df,\n",
    "    hue=\"points\",x=\"price\", y=\"points\",\n",
    ")"
   ]
  },
  {
   "cell_type": "code",
   "execution_count": null,
   "metadata": {},
   "outputs": [],
   "source": [
    "p_df = df.copy()\n",
    "province_count = df['province'].value_counts()\n",
    "for index, value in province_count.items():\n",
    "    if value/df['province'].shape[0] < 0.01:\n",
    "        p_df = p_df.replace(index,\"Other\")"
   ]
  },
  {
   "cell_type": "code",
   "execution_count": null,
   "metadata": {},
   "outputs": [],
   "source": [
    "sns.relplot(\n",
    "    data=p_df,\n",
    "    hue=\"province\",x=\"price\", y=\"province\",\n",
    ")\n",
    "sns.relplot(\n",
    "    data=p_df,\n",
    "    hue=\"province\",x=\"points\", y=\"province\",\n",
    ")"
   ]
  },
  {
   "cell_type": "code",
   "execution_count": null,
   "metadata": {},
   "outputs": [],
   "source": [
    "p_df = df.copy()\n",
    "province_count = df['variety'].value_counts()\n",
    "for index, value in province_count.items():\n",
    "    if value/df['variety'].shape[0] < 0.01:\n",
    "        p_df = p_df.replace(index,\"Other\")\n",
    "sns.relplot(\n",
    "    data=p_df,\n",
    "    hue=\"variety\",x=\"price\", y=\"variety\",\n",
    ")\n",
    "sns.relplot(\n",
    "    data=p_df,\n",
    "    hue=\"variety\",x=\"points\", y=\"variety\",\n",
    ")"
   ]
  },
  {
   "cell_type": "code",
   "execution_count": null,
   "metadata": {},
   "outputs": [],
   "source": [
    "# Create a visualization\n",
    "sns.relplot(\n",
    "    x=\"points\", y=\"country\", data=df,\n",
    "    height = 10\n",
    ")"
   ]
  },
  {
   "cell_type": "markdown",
   "metadata": {
    "tags": []
   },
   "source": []
  },
  {
   "cell_type": "code",
   "execution_count": null,
   "metadata": {},
   "outputs": [],
   "source": [
    "# #Create a visualization of points related to winery\n",
    "# sns.relplot(\n",
    "#     x=\"points\", y=\"winery\",data=df,\n",
    "#     height = 10\n",
    "# )\n",
    "# p_df = df.copy()\n",
    "# province_count = df['winery'].value_counts()\n",
    "# for index, value in province_count.items():\n",
    "#     if value/df['winery'].shape[0] < 0.01:\n",
    "#         p_df = p_df.replace(index,\"Other\")\n",
    "# sns.relplot(\n",
    "#     data=p_df,\n",
    "#     hue=\"winery\",x=\"points\", y=\"winery\",\n",
    "# )"
   ]
  },
  {
   "cell_type": "code",
   "execution_count": null,
   "metadata": {},
   "outputs": [],
   "source": [
    "#Create a visualization of points related to province\n",
    "sns.relplot(\n",
    "    x=\"points\", y=\"year\",data=df,\n",
    "    height = 30\n",
    ")"
   ]
  },
  {
   "cell_type": "code",
   "execution_count": null,
   "metadata": {},
   "outputs": [],
   "source": []
  },
  {
   "cell_type": "code",
   "execution_count": null,
   "metadata": {},
   "outputs": [],
   "source": [
    "# Create a visualization\n",
    "sns.relplot(\n",
    "    x=\"points\", y=\"designation\", data=df,\n",
    "    height = 30\n",
    ")"
   ]
  },
  {
   "cell_type": "code",
   "execution_count": null,
   "metadata": {},
   "outputs": [],
   "source": [
    "df"
   ]
  },
  {
   "cell_type": "markdown",
   "metadata": {},
   "source": [
    "# Machine Learning part"
   ]
  },
  {
   "cell_type": "code",
   "execution_count": 124,
   "metadata": {},
   "outputs": [],
   "source": [
    "from sklearn.datasets import make_gaussian_quantiles\n",
    "from sklearn.gaussian_process.kernels import RBF\n",
    "from sklearn import svm\n",
    "from sklearn.model_selection import train_test_split\n",
    "from sklearn import preprocessing\n",
    "import numpy as np\n",
    "import matplotlib.pyplot as plt\n",
    "import seaborn as sns; \n",
    "import pandas as pd"
   ]
  },
  {
   "cell_type": "code",
   "execution_count": 125,
   "metadata": {},
   "outputs": [
    {
     "name": "stdout",
     "output_type": "stream",
     "text": [
      "Index(['Unnamed: 0', 'country', 'description', 'designation', 'points',\n",
      "       'price', 'province', 'region_1', 'region_2', 'taster_name',\n",
      "       'taster_twitter_handle', 'title', 'variety', 'winery'],\n",
      "      dtype='object')\n"
     ]
    }
   ],
   "source": [
    "df = pd.read_csv (r'winemag-data-130k-v2.csv')\n",
    "print(df.columns)"
   ]
  },
  {
   "cell_type": "code",
   "execution_count": 126,
   "metadata": {},
   "outputs": [],
   "source": [
    "# Labling the column variety into variables \n",
    "mappings = {}\n",
    "labels = ['variety','winery','region_1','country','province']\n",
    "for i in labels:\n",
    "\tlabel_encoder = preprocessing.LabelEncoder()\n",
    "\tdf = df.dropna(subset=[i])\n",
    "\tdf[i] = label_encoder.fit_transform(df[i])\n",
    "\tmappings[i] = dict(zip(label_encoder.classes_, range(len(label_encoder.classes_))))"
   ]
  },
  {
   "cell_type": "code",
   "execution_count": 127,
   "metadata": {},
   "outputs": [],
   "source": [
    "df = df._get_numeric_data()\n",
    "df.drop(['Unnamed: 0'], axis=1, inplace=True)"
   ]
  },
  {
   "cell_type": "code",
   "execution_count": 128,
   "metadata": {},
   "outputs": [
    {
     "name": "stdout",
     "output_type": "stream",
     "text": [
      "(101400, 1)\n"
     ]
    }
   ],
   "source": [
    "from sklearn.decomposition import PCA\n",
    "from sklearn.preprocessing import normalize\n",
    "df.dropna(inplace=True)\n",
    "y = df['points']\n",
    "x = df.drop(['points'], axis=1)\n",
    "pca = PCA(n_components=1)\n",
    "x = pca.fit_transform(x)\n",
    "print(x.shape)\n",
    "X_train, X_test, y_train, y_test = train_test_split(x, y, test_size=0.33, random_state=42)"
   ]
  },
  {
   "cell_type": "code",
   "execution_count": 129,
   "metadata": {},
   "outputs": [
    {
     "data": {
      "text/plain": [
       "0.6670850517004363"
      ]
     },
     "execution_count": 129,
     "metadata": {},
     "output_type": "execute_result"
    }
   ],
   "source": [
    "\n",
    "from sklearn.neighbors import KNeighborsRegressor\n",
    "\n",
    "neigh = KNeighborsRegressor(n_neighbors=5, p = 1)\n",
    "neigh.fit(X_train, y_train)\n",
    "y_pred = neigh.predict(X_test)\n",
    "\n",
    "\n",
    "correct_predictions = 0\n",
    "# iterate over each label and check\n",
    "for true, predicted in zip(y_test, y_pred):\n",
    "\tif abs(true - predicted) < 2.5:\n",
    "\t\tcorrect_predictions += 1\n",
    "# compute the accuracy\n",
    "accuracy = correct_predictions/len(y_test)\n",
    "accuracy\n"
   ]
  },
  {
   "cell_type": "code",
   "execution_count": 143,
   "metadata": {},
   "outputs": [
    {
     "data": {
      "image/png": "[encoded data removed]",
      "text/plain": [
       "<Figure size 432x288 with 1 Axes>"
      ]
     },
     "metadata": {
      "needs_background": "light"
     },
     "output_type": "display_data"
    }
   ],
   "source": [
    "import matplotlib.pyplot as plt\n",
    "y_ = neigh.predict(X_test)\n",
    "plt.scatter(X_train, y_train, color=\"darkorange\", label=\"data\")\n",
    "plt.plot(X_test, y_test, color=\"navy\", label=\"prediction\")\n",
    "plt.ylim([82.5,85])\n",
    "plt.axis(\"tight\")\n",
    "plt.legend()\n",
    "plt.show()\n"
   ]
  }
 ],
 "metadata": {
  "interpreter": {
   "hash": "d2176c9a991d2465a0655ede0be4ff8d327789ee0bba2da16048e49778fc9d27"
  },
  "kernelspec": {
   "display_name": "Python 3.8.5 ('base')",
   "language": "python",
   "name": "python3"
  },
  "language_info": {
   "codemirror_mode": {
    "name": "ipython",
    "version": 3
   },
   "file_extension": ".py",
   "mimetype": "text/x-python",
   "name": "python",
   "nbconvert_exporter": "python",
   "pygments_lexer": "ipython3",
   "version": "3.8.5"
  }
 },
 "nbformat": 4,
 "nbformat_minor": 4
}
